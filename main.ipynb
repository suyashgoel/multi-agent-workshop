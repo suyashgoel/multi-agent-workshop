{
 "cells": [
  {
   "cell_type": "code",
   "execution_count": 2,
   "metadata": {},
   "outputs": [],
   "source": [
    "import json\n",
    "from typing import Dict\n",
    "from typing_extensions import TypedDict\n",
    "from dotenv import load_dotenv\n",
    "\n",
    "from langchain_community.tools.tavily_search import TavilySearchResults\n",
    "from langchain_core.messages import BaseMessage, HumanMessage, SystemMessage, AIMessage\n",
    "from langchain_openai import ChatOpenAI\n",
    "\n",
    "from langgraph.graph import StateGraph, START, END"
   ]
  },
  {
   "cell_type": "code",
   "execution_count": 3,
   "metadata": {},
   "outputs": [
    {
     "data": {
      "text/plain": [
       "True"
      ]
     },
     "execution_count": 3,
     "metadata": {},
     "output_type": "execute_result"
    }
   ],
   "source": [
    "load_dotenv()"
   ]
  },
  {
   "cell_type": "code",
   "execution_count": 4,
   "metadata": {},
   "outputs": [],
   "source": [
    "search_query_llm = ChatOpenAI(\n",
    "    model_name=\"gpt-3.5-turbo\", \n",
    "    temperature=0.7,\n",
    ")   \n",
    "\n",
    "researcher_llm = ChatOpenAI(\n",
    "    model_name=\"gpt-3.5-turbo\", \n",
    "    temperature=0.7,\n",
    ")\n",
    "\n",
    "recommend_llm = ChatOpenAI(\n",
    "    model_name=\"gpt-3.5-turbo\",\n",
    "    temperature=0.7,\n",
    ")"
   ]
  },
  {
   "cell_type": "code",
   "execution_count": 5,
   "metadata": {},
   "outputs": [],
   "source": [
    "# Define the state schema - the keeps track of the conversation history of all agents\n",
    "class AppState(TypedDict): # Ensures that the state is of type Dict\n",
    "    messages: list[BaseMessage] # ensures that the messages are of type BaseMessage"
   ]
  },
  {
   "cell_type": "code",
   "execution_count": 6,
   "metadata": {},
   "outputs": [],
   "source": [
    "search = TavilySearchResults(\n",
    "    max_results=5,\n",
    "    search_depth=\"advanced\",\n",
    "    )\n",
    "\n",
    "# ai agents don't work well with tripadvisor"
   ]
  },
  {
   "cell_type": "code",
   "execution_count": 7,
   "metadata": {},
   "outputs": [],
   "source": [
    "from datetime import datetime\n",
    "\n",
    "def search_tool(state: Dict) -> Dict:\n",
    "    messages = state[\"messages\"]\n",
    "    \n",
    "    now = datetime.now()\n",
    "    current_time = now.strftime(\"%I:%M %p\")\n",
    "    \n",
    "    # First use LLM to refine the search query\n",
    "    refine_messages = [\n",
    "        SystemMessage(content=\"\"\"\n",
    "            You are a search query specialist.\n",
    "            \n",
    "            Your task is to reformulate a University of California Davis, CA student's food preferences into specific, \n",
    "            targeted search terms that will yield the most relevant food establishments.\n",
    "                      \n",
    "            Return only the search query, nothing else.\"\"\"),\n",
    "\n",
    "        HumanMessage(content=f\"\"\"\n",
    "            Convert this request into a specific internet search query: \n",
    "            {messages[-1].content}\"\"\")\n",
    "    ]\n",
    "\n",
    "    refined_query = search_query_llm.invoke(refine_messages).content\n",
    "    \n",
    "    # Strip quotation marks from refined query\n",
    "    refined_query = refined_query.replace('\"', '')\n",
    "    print(f\"\\n==== REFINED QUERY ====\\n{refined_query}\")\n",
    "    \n",
    "    # Use refined query with Tavily for search\n",
    "    search_results = search.invoke({\n",
    "        \"query\": refined_query,\n",
    "    })\n",
    "    \n",
    "    # Format and add results to message history\n",
    "    formatted_results = json.dumps(search_results, indent=2)\n",
    "    messages.append(AIMessage(content=formatted_results))\n",
    "    \n",
    "    print(f\"\\n==== SEARCH TOOL RESULTS ====\\n{formatted_results}\")\n",
    "    \n",
    "    return {\"messages\": messages}"
   ]
  },
  {
   "cell_type": "code",
   "execution_count": 8,
   "metadata": {},
   "outputs": [],
   "source": [
    "# Define the research node\n",
    "def research(state: Dict) -> Dict:\n",
    "    messages = state[\"messages\"]\n",
    "    research_messages = [\n",
    "        SystemMessage(content='''\n",
    "            You are an expert on food establishments for UC Davis students and research analysis using web content. Analyze the provided search results and extract optimal food establishment options along with detailed information about what they offer. \n",
    "            \n",
    "            For each food establishment, please include:\n",
    "            - **Establishment Name**: The name and location of the food establishment.\n",
    "            - **Key Features**: What makes this place stand out (e.g., unique dishes, budget-friendly options, high-protein meals, late-night availability).\n",
    "            - **Offerings & Specialties**: Summary of the menu, including specific dishes or meal types and who it’s best for (e.g., vegan options, quick bites, group dining).\n",
    "            - **Pros & Cons**: Brief evaluation points, including food quality, service, ambiance, and suitability for specific student needs.\n",
    "            - **Confirmed Hours**: Up-to-date operating hours, including if they are open late or during specific times (e.g., breakfast, lunch, dinner).\n",
    "            - **Actionable Tips**: Recommendations for the best time to visit, must-try dishes, insider tips, and any available student discounts.\n",
    "            \n",
    "            Organize your response into clear sections for each food establishment. Use bullet points or headings where appropriate for clarity.\n",
    "            Recommend only food establishments that are found in the search results.\n",
    "        '''),\n",
    "        *messages # Transfer conversation history\n",
    "    ]\n",
    "    response = researcher_llm.invoke(research_messages)\n",
    "    print(f'\\n=====RESEARCH AGENT NODE=====\\n{response}')\n",
    "    return {\"messages\": messages + [response]}\n",
    " \n",
    "# 1. query 2. example 3. context (why are we doing this?) is recipe for a good promp"
   ]
  },
  {
   "cell_type": "code",
   "execution_count": 9,
   "metadata": {},
   "outputs": [],
   "source": [
    "# Define the explain node\n",
    "def recommend(state: Dict) -> Dict:\n",
    "    messages = state[\"messages\"]\n",
    "    recommendation_messages = [\n",
    "        SystemMessage(content='''\n",
    "            You are an expert on food establishment selection for University of California, Davis students known for providing clear and professional recommendations.\n",
    "            \n",
    "            Based on the research findings provided, please perform the following tasks:\n",
    "            1. Identify and rank the top food establishments that best meet the user's query.\n",
    "            2. For each top destination, provide:\n",
    "                - **Food Establishment Name**: The name and exact location of the food establishment.\n",
    "                - **Why It's Ideal: **: A detailed explanation of why this food establishment is a great fit for the student's needs, including unique features, specific menu offerings, and suitability for particular preferences (e.g., budget-friendly, high-protein meals, vegan options).\n",
    "                - **Key Features**: Highlight any standout attractions, special amenities (e.g., Wi-Fi, study-friendly spaces), and what makes it unique.\n",
    "                - **Recommendations**: Actionable tips for planning a visit, including the best time to go, must-try dishes, insider advice, confirmed hours of operation, and any available student discounts.\n",
    "                \n",
    "            Organize your response in a clear, structured format (using headings or bullet points) to ensure it is easy to understand.\n",
    "            Be as detailed and informative as necessary, as a food expert would be when providing a recommendation to a client.\n",
    "        '''),\n",
    "        *messages\n",
    "    ]\n",
    "    response = recommend_llm.invoke(recommendation_messages)\n",
    "    print(f\"\\n=====FOOD EXPERT NODE====={response}\")\n",
    "    return {\"messages\": messages + [response]}"
   ]
  },
  {
   "cell_type": "code",
   "execution_count": 10,
   "metadata": {},
   "outputs": [
    {
     "data": {
      "text/plain": [
       "<langgraph.graph.state.StateGraph at 0x12153dc90>"
      ]
     },
     "execution_count": 10,
     "metadata": {},
     "output_type": "execute_result"
    }
   ],
   "source": [
    "# Build the graph\n",
    "graph = StateGraph(AppState)\n",
    "graph.add_node(\"search\", search_tool)\n",
    "graph.add_node(\"research\", research)\n",
    "graph.add_node(\"recommend\", recommend)\n",
    "\n",
    "# Define the edges\n",
    "graph.set_entry_point(\"search\")\n",
    "graph.add_edge(\"search\", \"research\")\n",
    "graph.add_edge(\"research\", \"recommend\")\n",
    "graph.add_edge(\"recommend\", END)"
   ]
  },
  {
   "cell_type": "code",
   "execution_count": 11,
   "metadata": {},
   "outputs": [
    {
     "name": "stdout",
     "output_type": "stream",
     "text": [
      "\n",
      "==== REFINED QUERY ====\n",
      "yummy affordable Asian food open until 10pm Davis CA\n",
      "\n",
      "==== SEARCH TOOL RESULTS ====\n",
      "[\n",
      "  {\n",
      "    \"url\": \"https://m.yelp.com/search?find_desc=asian+food+open+late&find_loc=Davis%2C+CA\",\n",
      "    \"content\": \"Top 10 Best asian food open late Near Davis, California ; 1. MightyGoodFood. 5.0 (7 reviews) ; 2. Jusco Japanese Restaurant. 3.5 (387 reviews) ; 3. Teabo Caf\\u00e9. 3.5\"\n",
      "  },\n",
      "  {\n",
      "    \"url\": \"https://www.yelp.com/search?find_desc=Chinese+Food+Open+Late&find_loc=Davis%2C+CA\",\n",
      "    \"content\": \"Top 10 Best Chinese Food Open Late in Davis, CA - February 2025 - Yelp - Oyama BBQ, Star KTV Lounge, Red 88 - Davis, Tea Hub, Gold Coast Cuisine,\"\n",
      "  },\n",
      "  {\n",
      "    \"url\": \"https://wanderlog.com/list/geoCategory/471629/best-asian-food-in-davis\",\n",
      "    \"content\": \"The 21 best Asian food in Davis \\u00b7 1 Sophia's Thai Kitchen \\u00b7 2 Thai Nakorn \\u00b7 3 Wok of Flame \\u987a\\u5229\\u996d\\u5e97 \\u00b7 4 Zen Toro Japanese Bistro \\u00b7 5 Davis Sushi & Fusion \\u00b7 6 Davis\"\n",
      "  },\n",
      "  {\n",
      "    \"url\": \"https://www.reddit.com/r/UCDavis/comments/r9cyz1/whats_the_best_cheap_chinese_food_in_davis/\",\n",
      "    \"content\": \"Tim's Kitchen. It's a Hong Kong cafe style restaurant and their 9.99 baked pork chop fried rice comes in huge portions!\"\n",
      "  },\n",
      "  {\n",
      "    \"url\": \"https://www.tripadvisor.com/Restaurant_Review-g32283-d7967732-Reviews-Huku_Japanese_Bistro-Davis_California.html\",\n",
      "    \"content\": \"Huku Japanese Bistro, Davis: See 39 unbiased reviews of Huku Japanese Bistro, rated 4.0 of 5 on Tripadvisor and ranked #47 of 128 restaurants in Davis.\"\n",
      "  }\n",
      "]\n",
      "\n",
      "=====RESEARCH AGENT NODE=====\n",
      "content=\"### Huku Japanese Bistro\\n- **Establishment Name**: Huku Japanese Bistro, Davis, CA\\n- **Key Features**: Affordable Japanese cuisine with a cozy ambiance.\\n- **Offerings & Specialties**: Sushi, bento boxes, ramen, and teriyaki dishes. Great for sushi lovers and those looking for a quick Japanese meal.\\n- **Pros & Cons**:\\n  - **Pros**: Fresh sushi, friendly service, cozy ambiance.\\n  - **Cons**: Limited seating capacity during peak hours.\\n- **Confirmed Hours**: Open until 10pm.\\n- **Actionable Tips**: Visit during non-peak hours for quicker seating. Must-try dishes include their specialty sushi rolls.\\n\\n### Tim's Kitchen\\n- **Establishment Name**: Tim's Kitchen, Davis, CA\\n- **Key Features**: Hong Kong cafe-style restaurant with generous portions.\\n- **Offerings & Specialties**: Baked pork chop fried rice and other Hong Kong-style dishes. Ideal for those craving authentic Chinese comfort food.\\n- **Pros & Cons**:\\n  - **Pros**: Generous portions, budget-friendly prices.\\n  - **Cons**: Limited seating space.\\n- **Confirmed Hours**: Operating hours might vary, recommend calling to check.\\n- **Actionable Tips**: Try the baked pork chop fried rice for a satisfying meal. Best to visit early to secure seating.\\n\\n### Jusco Japanese Restaurant\\n- **Establishment Name**: Jusco Japanese Restaurant, Davis, CA\\n- **Key Features**: Japanese cuisine with a variety of options.\\n- **Offerings & Specialties**: Sushi, ramen, teriyaki dishes, and bento boxes. Suitable for sushi enthusiasts and those looking for a diverse Japanese menu.\\n- **Pros & Cons**:\\n  - **Pros**: Extensive menu selection, reasonable prices.\\n  - **Cons**: Occasional wait times during peak hours.\\n- **Confirmed Hours**: Open until 10pm.\\n- **Actionable Tips**: Consider making a reservation during busy hours. Don't miss out on their specialty sushi rolls.\\n\\nThese establishments offer a variety of Asian cuisine options, are budget-friendly, and open until around 10pm, providing you with delicious dinner choices in Davis, CA.\" additional_kwargs={'refusal': None} response_metadata={'token_usage': {'completion_tokens': 452, 'prompt_tokens': 774, 'total_tokens': 1226, 'completion_tokens_details': {'accepted_prediction_tokens': 0, 'audio_tokens': 0, 'reasoning_tokens': 0, 'rejected_prediction_tokens': 0}, 'prompt_tokens_details': {'audio_tokens': 0, 'cached_tokens': 0}}, 'model_name': 'gpt-3.5-turbo-0125', 'system_fingerprint': None, 'finish_reason': 'stop', 'logprobs': None} id='run-06c25e6b-d964-47a5-a532-327bb4993472-0' usage_metadata={'input_tokens': 774, 'output_tokens': 452, 'total_tokens': 1226, 'input_token_details': {'audio': 0, 'cache_read': 0}, 'output_token_details': {'audio': 0, 'reasoning': 0}}\n",
      "\n",
      "=====FOOD EXPERT NODE=====content=\"Based on the information provided, here are the top recommendations for yummy Asian food that is affordable and open until around 10pm in Davis, CA:\\n\\n### 1. **Huku Japanese Bistro**\\n- **Location**: Davis, CA\\n- **Why It's Ideal**: Huku Japanese Bistro offers affordable Japanese cuisine with a cozy ambiance, making it a great option for a tasty and relaxing dinner.\\n- **Key Features**:\\n  - Sushi, bento boxes, ramen, and teriyaki dishes\\n  - Fresh sushi and friendly service\\n- **Recommendations**:\\n  - Best time to go: Visit during non-peak hours for quicker seating\\n  - Must-try dishes: Specialty sushi rolls\\n  - Confirmed hours of operation: Open until 10pm\\n\\n### 2. **Tim's Kitchen**\\n- **Location**: Davis, CA\\n- **Why It's Ideal**: Tim's Kitchen is a Hong Kong cafe-style restaurant known for its generous portions of authentic Chinese comfort food at affordable prices.\\n- **Key Features**:\\n  - Hong Kong cafe-style with generous portions\\n  - Baked pork chop fried rice and other Hong Kong-style dishes\\n- **Recommendations**:\\n  - Best time to go: Visit early to secure seating\\n  - Must-try dishes: Baked pork chop fried rice\\n  - Confirmed hours of operation: Hours may vary, recommend calling to check\\n\\n### 3. **Jusco Japanese Restaurant**\\n- **Location**: Davis, CA\\n- **Why It's Ideal**: Jusco Japanese Restaurant offers a variety of Japanese cuisine options, including sushi, ramen, teriyaki dishes, and bento boxes, suitable for different preferences.\\n- **Key Features**:\\n  - Extensive menu selection with reasonable prices\\n  - Sushi, ramen, teriyaki dishes, and bento boxes\\n- **Recommendations**:\\n  - Best time to go: Consider making a reservation during busy hours\\n  - Must-try dishes: Specialty sushi rolls\\n  - Confirmed hours of operation: Open until 10pm\\n\\nThese establishments provide delicious Asian food options that are budget-friendly and cater to your preferences, making them ideal choices for dinner in Davis, CA.\" additional_kwargs={'refusal': None} response_metadata={'token_usage': {'completion_tokens': 460, 'prompt_tokens': 1230, 'total_tokens': 1690, 'completion_tokens_details': {'accepted_prediction_tokens': 0, 'audio_tokens': 0, 'reasoning_tokens': 0, 'rejected_prediction_tokens': 0}, 'prompt_tokens_details': {'audio_tokens': 0, 'cached_tokens': 0}}, 'model_name': 'gpt-3.5-turbo-0125', 'system_fingerprint': None, 'finish_reason': 'stop', 'logprobs': None} id='run-614ee715-1639-418a-a251-380aa6332a2e-0' usage_metadata={'input_tokens': 1230, 'output_tokens': 460, 'total_tokens': 1690, 'input_token_details': {'audio': 0, 'cache_read': 0}, 'output_token_details': {'audio': 0, 'reasoning': 0}}\n",
      "Based on the information provided, here are the top recommendations for yummy Asian food that is affordable and open until around 10pm in Davis, CA:\n",
      "\n",
      "### 1. **Huku Japanese Bistro**\n",
      "- **Location**: Davis, CA\n",
      "- **Why It's Ideal**: Huku Japanese Bistro offers affordable Japanese cuisine with a cozy ambiance, making it a great option for a tasty and relaxing dinner.\n",
      "- **Key Features**:\n",
      "  - Sushi, bento boxes, ramen, and teriyaki dishes\n",
      "  - Fresh sushi and friendly service\n",
      "- **Recommendations**:\n",
      "  - Best time to go: Visit during non-peak hours for quicker seating\n",
      "  - Must-try dishes: Specialty sushi rolls\n",
      "  - Confirmed hours of operation: Open until 10pm\n",
      "\n",
      "### 2. **Tim's Kitchen**\n",
      "- **Location**: Davis, CA\n",
      "- **Why It's Ideal**: Tim's Kitchen is a Hong Kong cafe-style restaurant known for its generous portions of authentic Chinese comfort food at affordable prices.\n",
      "- **Key Features**:\n",
      "  - Hong Kong cafe-style with generous portions\n",
      "  - Baked pork chop fried rice and other Hong Kong-style dishes\n",
      "- **Recommendations**:\n",
      "  - Best time to go: Visit early to secure seating\n",
      "  - Must-try dishes: Baked pork chop fried rice\n",
      "  - Confirmed hours of operation: Hours may vary, recommend calling to check\n",
      "\n",
      "### 3. **Jusco Japanese Restaurant**\n",
      "- **Location**: Davis, CA\n",
      "- **Why It's Ideal**: Jusco Japanese Restaurant offers a variety of Japanese cuisine options, including sushi, ramen, teriyaki dishes, and bento boxes, suitable for different preferences.\n",
      "- **Key Features**:\n",
      "  - Extensive menu selection with reasonable prices\n",
      "  - Sushi, ramen, teriyaki dishes, and bento boxes\n",
      "- **Recommendations**:\n",
      "  - Best time to go: Consider making a reservation during busy hours\n",
      "  - Must-try dishes: Specialty sushi rolls\n",
      "  - Confirmed hours of operation: Open until 10pm\n",
      "\n",
      "These establishments provide delicious Asian food options that are budget-friendly and cater to your preferences, making them ideal choices for dinner in Davis, CA.\n"
     ]
    }
   ],
   "source": [
    "# Define your function to run the graph\n",
    "def run_conversation(user_input: str):\n",
    "    \"\"\"\n",
    "    Runs the conversation graph with the given user input.\n",
    "    \n",
    "    Args:\n",
    "        user_input (str): The user's input message.\n",
    "    \n",
    "    Returns:\n",
    "        str: The final output message from the conversation.\n",
    "    \"\"\"\n",
    "    initial_state = {\n",
    "        \"messages\": [\n",
    "            HumanMessage(content=user_input)\n",
    "        ]\n",
    "    }\n",
    "    app = graph.compile()\n",
    "    output = app.invoke(initial_state)\n",
    "    return output[\"messages\"][-1].content\n",
    "\n",
    "result = run_conversation(\"I'm looking for yummy Asian food for dinner that's affordable and open til around 10pm\")\n",
    "print(result)"
   ]
  }
 ],
 "metadata": {
  "kernelspec": {
   "display_name": "myenv",
   "language": "python",
   "name": "python3"
  },
  "language_info": {
   "codemirror_mode": {
    "name": "ipython",
    "version": 3
   },
   "file_extension": ".py",
   "mimetype": "text/x-python",
   "name": "python",
   "nbconvert_exporter": "python",
   "pygments_lexer": "ipython3",
   "version": "3.11.11"
  }
 },
 "nbformat": 4,
 "nbformat_minor": 2
}
